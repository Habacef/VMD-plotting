{
  "cells": [
    {
      "cell_type": "markdown",
      "metadata": {
        "id": "view-in-github",
        "colab_type": "text"
      },
      "source": [
        "<a href=\"https://colab.research.google.com/github/Habacef/VMD-plotting/blob/main/RMSD-plots.ipynb\" target=\"_parent\"><img src=\"https://colab.research.google.com/assets/colab-badge.svg\" alt=\"Open In Colab\"/></a>"
      ]
    },
    {
      "cell_type": "markdown",
      "metadata": {
        "id": "eJOHbWZ83hbI"
      },
      "source": [
        "Importing important libraries"
      ]
    },
    {
      "cell_type": "code",
      "execution_count": null,
      "metadata": {
        "id": "4XlXIS2Z3NlM"
      },
      "outputs": [],
      "source": [
        "from matplotlib import pyplot as plt\n",
        "import seaborn as sns\n",
        "import pandas as pd\n",
        "import numpy as np\n",
        "import os\n",
        "import scipy.stats as stats\n",
        "from scipy.interpolate import make_interp_spline\n",
        "from scipy.stats import rankdata, mannwhitneyu"
      ]
    },
    {
      "cell_type": "markdown",
      "metadata": {
        "id": "cKXAWoMg4eoR"
      },
      "source": [
        "Uploading the data and storing its name in a variable"
      ]
    },
    {
      "cell_type": "code",
      "execution_count": null,
      "metadata": {
        "id": "T6XRyO-_3v5n"
      },
      "outputs": [],
      "source": [
        "from google.colab import files\n",
        "\n",
        "\n",
        "print(\"Please upload a combined measurement file in txt format\")\n",
        "measurement = files.upload()\n",
        "\n",
        "for name, data in measurement.items():\n",
        "  measurement_name = name\n",
        "\n",
        "if not measurement:\n",
        "    user_input = input(\"Please type filename for raw-data: \")\n",
        "    # Store user_input in a variable\n",
        "    measurement_name = user_input"
      ]
    },
    {
      "cell_type": "markdown",
      "metadata": {
        "id": "hZQbDc4F4tUI"
      },
      "source": [
        "Check the data"
      ]
    },
    {
      "cell_type": "code",
      "execution_count": null,
      "metadata": {
        "id": "gPkd9na159Y1"
      },
      "outputs": [],
      "source": [
        "df = pd.read_csv(measurement_name,delimiter='\\s+',)\n",
        "df = df.drop(\"frame\", axis=1)\n",
        "print(df)"
      ]
    },
    {
      "cell_type": "markdown",
      "source": [
        "Write the names of each column, to not be the VMD-output of \"mol0, mol1, mol2, ..."
      ],
      "metadata": {
        "id": "1NlTWsFmhI3o"
      }
    },
    {
      "cell_type": "code",
      "execution_count": null,
      "metadata": {
        "id": "Fq0kgX302B6B"
      },
      "outputs": [],
      "source": [
        "user_input = input(\"Please type in the Name of each replika to be labeled in the Legend \")\n",
        "# Store user_input in a variable\n",
        "ReplikaName = user_input\n",
        "df.columns = [ReplikaName+'-n1', ReplikaName+'-n2', ReplikaName+'-n3', ReplikaName+'-n4', ReplikaName+'-n5']                  "
      ]
    },
    {
      "cell_type": "markdown",
      "source": [
        "Create the binned bar plot of 5 replicas overlayed."
      ],
      "metadata": {
        "id": "B1K8ATlSh8EE"
      }
    },
    {
      "cell_type": "code",
      "execution_count": null,
      "metadata": {
        "id": "GRgXdGbqoQyx"
      },
      "outputs": [],
      "source": [
        "bin_width = 0.1\n",
        "\n",
        "# Calculate the number of bins\n",
        "min_value = int(df.min().min() // bin_width) * bin_width\n",
        "max_value = int(df.max().max() // bin_width) * bin_width\n",
        "bins = int((max_value - min_value) / bin_width) + 1\n",
        "\n",
        "# Plot the histograms for each column\n",
        "for col in df.columns:\n",
        "    plt.hist(df[col], bins=bins, range=(min_value, max_value), alpha=0.5, label=col)\n",
        "\n",
        "# Add the labels and title\n",
        "plt.xlabel(\"RMSD in Angstrom\")\n",
        "plt.ylabel(\"Frequency in number of Frames\")\n",
        "plt.title(\"RMSD distribution through 5 MDs of MOLECULE backbone\")\n",
        "plt.legend(loc='upper right')\n",
        "plt.rcParams[\"figure.figsize\"] = [7.50, 5.00]\n",
        "\n",
        "# Show the plot\n",
        "plt.savefig('Bins.png', dpi=600)\n",
        "plt.show()"
      ]
    },
    {
      "cell_type": "markdown",
      "metadata": {
        "id": "fNFDaQZA-MLd"
      },
      "source": [
        "Create comparative violin plots using two uploaded data files\n",
        "including calculation of the p values using t-test (not used but code is provided) and Mann–Whitney U test. The color is given by the first variables. "
      ]
    },
    {
      "cell_type": "code",
      "source": [
        "#the following part ist to plot a comparative violin plot from two different datasets. This can include multiple replica\n",
        "# Typical data is the output from VMD measurements. \n",
        "\n",
        "\n",
        "S1 = \"chocolate\"\n",
        "S2 = \"orange\"\n",
        "R1 = \"violet\"\n",
        "R2 = \"yellow\"\n",
        "R3 = \"forestgreen\"\n",
        "\n",
        "\n",
        "color1 = R1\n",
        "color2 = S2\n",
        "lessergreater = \"less\"\n",
        "# less or greater or two-sided DEPENDING ON: DO WE THING THE LEFT SIDE MOVES ...\n",
        "\n",
        "user_input = input(\"Please give the Name of Left-molecule: \")\n",
        "leftMolec = user_input\n",
        "\n",
        "user_input = input(\"Please give the FILENAME of the first Dataset: \")\n",
        "data1 = user_input\n",
        "\n",
        "raw_data = pd.read_csv(data1,delimiter='\\s+',)\n",
        "raw_data = raw_data.drop(\"frame\", axis=1)\n",
        "raw_data = raw_data.melt(var_name='groups', value_name= leftMolec)\n",
        "\n",
        "user_input = input(\"Please type FILENAME for second-dataset: \")\n",
        "measurement_name = user_input\n",
        "\n",
        "raw_data2 = pd.read_csv(measurement_name,delimiter='\\s+',)\n",
        "raw_data2 = raw_data2.drop(\"frame\", axis=1)\n",
        "\n",
        "user_input = input(\"Please type Name for Right-molecule: \")\n",
        "rightMolec = user_input\n",
        "\n",
        "raw_data2 = raw_data2.melt(var_name='groupies', value_name= rightMolec)\n",
        "raw_data = raw_data.join(raw_data2)\n",
        "raw_data.drop(labels=[\"groupies\"], axis=1, inplace=True)\n",
        "meltedraw_data = raw_data.melt('groups', var_name='hue', value_name='values')\n",
        "meltedraw_data\n",
        "\n",
        "sns.set_style('white')\n",
        "\n",
        "user_input = input(\"Please type Name for X-axis-Text: \")\n",
        "Xtext = user_input\n",
        "\n",
        "meltedraw_data.insert(3, 'Name', Xtext)\n",
        "meltedraw_data['values'] = meltedraw_data['values'].apply(pd.to_numeric, errors='coerce')\n",
        "\n",
        "\n",
        "# following calculates siginificance by t-test\n",
        "group1 = meltedraw_data[meltedraw_data['hue'] == leftMolec].dropna()\n",
        "group2 = meltedraw_data[meltedraw_data['hue'] == rightMolec].dropna()\n",
        "group1_mean = group1['values'].mean()\n",
        "group2_mean = group2['values'].mean()\n",
        "# calculate standard deviations\n",
        "group1_std = group1.std()\n",
        "group2_std = group2.std()\n",
        "# calculate sample sizes\n",
        "n1 = 5\n",
        "n2 = 5\n",
        "# calculate the standard error\n",
        "se = np.sqrt((group1_std**2 / n1) + (group2_std**2 / n2))\n",
        "# calculate the t-statistic\n",
        "t = (group1_mean - group2_mean) / se\n",
        "# calculate the degrees of freedom\n",
        "df = n1 + n2 - 2\n",
        "# calculate the p-value\n",
        "p = stats.t.sf(np.abs(t), df) * 2\n",
        "p = p.item()\n",
        "\n",
        "\n",
        "# following calculates significance by mannwithney test, with n=5 for each side. assuming not a standard distribution.\n",
        "group1 = meltedraw_data[meltedraw_data['hue'] == leftMolec].dropna()\n",
        "group2 = meltedraw_data[meltedraw_data['hue'] == rightMolec].dropna()\n",
        "mean_value1 = group1.groupby(\"groups\").mean()\n",
        "mean_value1['hue'] = group1.groupby(\"groups\")['hue'].first()\n",
        "mean_value2 = group2.groupby(\"groups\").mean()\n",
        "mean_value2['hue'] = group2.groupby(\"groups\")['hue'].first()\n",
        "group1_new = mean_value1[mean_value1['hue'] == leftMolec].dropna()\n",
        "group2_new = mean_value2[mean_value2['hue'] == rightMolec].dropna()\n",
        "ranks = rankdata(np.concatenate([group1_new['values'], group2_new['values']]))\n",
        "ranks_condition1 = ranks[:len(group1_new['values'])]\n",
        "ranks_condition2 = ranks[len(group1_new['values']):]\n",
        "U, p_value = mannwhitneyu(ranks_condition1, ranks_condition2, alternative=lessergreater)\n",
        "\n",
        "\n",
        "#t, p = stats.ttest_ind(group1['values'], group2['values'])\n",
        "#plot1 = sns.violinplot(x=\"groups\", y=\"values\", data=meltedraw_data, hue=\"hue\", scale='count', inner='quartile', palette=\"Blues\", split=True)\n",
        "plot1 = sns.violinplot(x=\"Name\", y=\"values\", data=meltedraw_data, hue=\"hue\", scale='area', inner='quartile', palette=[color1, color2], split=True)\n",
        "plt.ylim([0, 12])\n",
        "plt.xlabel(None)\n",
        "x_pos = (plt.xlim()[0] + plt.xlim()[1]) / 2\n",
        "y_pos = max(meltedraw_data['values']) + 0.7\n",
        "if p_value < 0.001:\n",
        "    plt.text(x_pos, y_pos, '***', fontweight='bold', ha='center')\n",
        "elif p_value < 0.01:\n",
        "    plt.text(x_pos, y_pos, '**', fontweight='bold', ha='center')\n",
        "elif p_value < 0.05:\n",
        "    plt.text(x_pos, y_pos, '*', fontweight='bold', ha='center')\n",
        "else:\n",
        "    plt.text(x_pos, y_pos, 'ns', fontweight='bold', ha='center')\n",
        "plt.text(x_pos + 0.32, 0.5, 'p-value: {:.2}, n=5'.format(p_value), ha='center')\n",
        "plt.ylabel('Backbone RMSD [Angstrom]', fontdict={'fontsize': 11})\n",
        "plt.legend(title=None)\n",
        "plt.savefig('ViolinPlot_RMSD_' + Xtext + '.png', dpi=600)\n",
        "\n",
        "\n"
      ],
      "metadata": {
        "id": "IBM2YZew4sc0"
      },
      "execution_count": null,
      "outputs": []
    },
    {
      "cell_type": "markdown",
      "source": [
        "replot in case some colors need to be changed"
      ],
      "metadata": {
        "id": "qhpmC_WRh5Hw"
      }
    },
    {
      "cell_type": "code",
      "source": [
        "color1 = R1\n",
        "color2 = S1\n",
        "lessergreater = \"two-sied\"\n",
        "plot1 = sns.violinplot(x=\"Name\", y=\"values\", data=meltedraw_data, hue=\"hue\", scale='area', inner='quartile', palette=[color1, color2], split=True)\n",
        "plt.ylim([0, 12])\n",
        "plt.xlabel(None)\n",
        "x_pos = (plt.xlim()[0] + plt.xlim()[1]) / 2\n",
        "y_pos = max(meltedraw_data['values']) + 0.9\n",
        "if p_value < 0.001:\n",
        "    plt.text(x_pos, y_pos, '***', fontweight='bold', ha='center')\n",
        "elif p_value < 0.01:\n",
        "    plt.text(x_pos, y_pos, '**', fontweight='bold', ha='center')\n",
        "elif p_value < 0.05:\n",
        "    plt.text(x_pos, y_pos, '*', fontweight='bold', ha='center')\n",
        "else:\n",
        "    plt.text(x_pos, y_pos, 'ns', fontweight='bold', ha='center')\n",
        "plt.text(x_pos + 0.32, 0.5, 'p-value: {:.2}, n=5'.format(p_value), ha='center')\n",
        "plt.ylabel('Backbone RMSD [Angstrom]', fontdict={'fontsize': 11})\n",
        "plt.legend(title=None)\n",
        "plt.savefig('ViolinPlot_RMSD_' + Xtext + '.png', dpi=600)\n"
      ],
      "metadata": {
        "id": "01cBLLOjbD48"
      },
      "execution_count": null,
      "outputs": []
    },
    {
      "cell_type": "markdown",
      "source": [
        "Create a line plot of all lines superiposed:"
      ],
      "metadata": {
        "id": "qzFberhph-NS"
      }
    },
    {
      "cell_type": "code",
      "execution_count": null,
      "metadata": {
        "id": "Ew2_zrT5-Hjc"
      },
      "outputs": [],
      "source": [
        "\n",
        "plot1 = df.plot(alpha=0.90,lw=1)\n",
        "\n",
        "for n in range(0,5):\n",
        "  line = plot1.get_lines()[n]\n",
        "  x = line.get_xdata()\n",
        "  y = line.get_ydata()\n",
        "  X_Y_Spline = make_interp_spline(x, y)\n",
        "  X_ = np.linspace(x.min(), x.max(), 250)\n",
        "  Y_ = X_Y_Spline(X_)\n",
        "  line.set_xdata(X_)\n",
        "  line.set_ydata(Y_)\n",
        "plt.xlabel('Frames')\n",
        "plt.ylabel('Atom Distance')\n",
        "plt.legend(loc='upper left')\n",
        "plt.savefig('Lines.png', dpi=600)\n",
        "plt.show()"
      ]
    },
    {
      "cell_type": "code",
      "execution_count": null,
      "metadata": {
        "id": "TNo4qJk360pL"
      },
      "outputs": [],
      "source": [
        "\n",
        "# Interpolating again for more smooth plots \n",
        "fig2, axs = plt.subplots(3, 2, sharex=True, sharey=True)\n",
        "for n in range(0,5):\n",
        "\tline = plot1.get_lines()[n]\n",
        "\tx = line.get_xdata()\n",
        "\ty = line.get_ydata()\n",
        " \n",
        "\tX_Y_Spline = make_interp_spline(x, y)\n",
        "\tX_ = np.linspace(x.min(), x.max(), 250)\n",
        "\tY_ = X_Y_Spline(X_)\n",
        "\tb= int(n/2)\n",
        "\tc= int(b+1)\n",
        "\tif n % 2 == 0:\n",
        "\t\taxs[b, 0].plot(X_, Y_, alpha=0.70,lw=1)\n",
        "\telse: \n",
        "\t\taxs[b, 1].plot(X_, Y_, alpha=0.70,lw=1)\n",
        "\taxs[2, 1].plot(X_, Y_, alpha=0.50,lw=1)\t\n",
        "\t#plot2 = plt.plot(X_, Y_, alpha=0.70,lw=1)\n",
        "\n",
        "plt.savefig('Lineplot-distance-over-time-smoothed', dpi=600)\n"
      ]
    },
    {
      "cell_type": "code",
      "execution_count": null,
      "metadata": {
        "id": "sszzHHFTAWJH"
      },
      "outputs": [],
      "source": [
        "def figshow(figure):\n",
        "    for i in plt.get_fignums():\n",
        "        if figure != plt.figure(i):\n",
        "            plt.close(plt.figure(i))\n",
        "    \n",
        "\n",
        "figshow(fig2)"
      ]
    },
    {
      "cell_type": "code",
      "execution_count": null,
      "metadata": {
        "id": "PJlDqi2p45t7"
      },
      "outputs": [],
      "source": [
        "\n",
        "#4) show side by side plot\n",
        "plt.clf()\n",
        "sns.lineplot(x=df_melted.index,y='vals', data=df_melted, hue='groups')\n",
        "plt.title(\"test\");\n",
        "plt.xlabel(\"test\");\n",
        "plt.show()\n"
      ]
    }
  ],
  "metadata": {
    "colab": {
      "provenance": [],
      "include_colab_link": true
    },
    "kernelspec": {
      "display_name": "Python 3",
      "name": "python3"
    },
    "language_info": {
      "name": "python"
    }
  },
  "nbformat": 4,
  "nbformat_minor": 0
}